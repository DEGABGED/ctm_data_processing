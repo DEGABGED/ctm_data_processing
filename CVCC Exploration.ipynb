{
 "cells": [
  {
   "cell_type": "code",
   "execution_count": 6,
   "metadata": {},
   "outputs": [],
   "source": [
    "import os\n",
    "import re\n",
    "import numpy as np\n",
    "import pandas as pd\n",
    "import matplotlib.pyplot as plt\n",
    "import seaborn as sns"
   ]
  },
  {
   "cell_type": "code",
   "execution_count": 2,
   "metadata": {},
   "outputs": [],
   "source": [
    "IMAGE_PATH = 'graphs/'\n",
    "DF_PATH_NUM = lambda x: 'experiments-final{}/'.format(x)\n",
    "DF_PATH = DF_PATH_NUM(3)"
   ]
  },
  {
   "cell_type": "code",
   "execution_count": 3,
   "metadata": {},
   "outputs": [],
   "source": [
    "SURVEY_ZONE_MAPPING = {'30': (2, 2, 0), '22': (3, 1, 2), '2c': (2, 0, 0), '28': (2, 2, 1), '25': (3, 2, 1), '26': (3, 1, 1), '27': (3, 0, 1), '20': (2, 2, 2), '21': (3, 2, 2), '1e': (3, 1, 2), '23': (3, 0, 2), '24': (2, 0, 1), '29': (3, 2, 1), '1a': (3, 1, 3), '0': (1, 0, 3), '3': (3, 1, 0), '2': (3, 2, 0), '5': (1, 0, 0), '1d': (3, 2, 2), '7': (2, 1, 1), '1f': (3, 0, 2), '9': (3, 1, 1), '8': (3, 2, 1), '3a': (3, 1, 3), '1c': (2, 0, 2), '4': (3, 0, 0), 'a': (3, 0, 1), '6': (1, 0, 1), '39': (3, 2, 3), '12': (1, 0, 2), '3b': (3, 0, 3), '1b': (3, 0, 3), 'b': (1, 0, 2), '13': (1, 0, 2), 'd': (3, 2, 2), '11': (1, 0, 3), '10': (1, 0, 3), 'c': (2, 1, 2), '38': (2, 0, 3), '15': (1, 0, 1), '14': (1, 0, 1), '17': (1, 0, 0), 'f': (3, 0, 2), '19': (3, 2, 3), '32': (3, 1, 0), '31': (3, 2, 0), '16': (1, 0, 0), '37': (3, 0, 3), '36': (3, 1, 3), '35': (3, 2, 3), '34': (2, 1, 3), '2d': (3, 2, 0), '2e': (3, 1, 0), '2f': (3, 0, 0), '1': (2, 1, 0), '2a': (3, 1, 1), '2b': (3, 0, 1), '18': (2, 2, 3), '33': (3, 0, 0), 'e': (3, 1, 2)}"
   ]
  },
  {
   "cell_type": "code",
   "execution_count": 4,
   "metadata": {},
   "outputs": [],
   "source": [
    "_demands = [\n",
    "    450,\n",
    "    900,\n",
    "    (450, 900),\n",
    "    (900, 1800)\n",
    "]\n",
    "\n",
    "_weights = [\n",
    "    (1, 0, 0),\n",
    "    (0, 1, 0),\n",
    "    (0, 0, 1),\n",
    "    (0.5, 0.5, 0),\n",
    "    (0, 0.5, 0.5),\n",
    "    (0.5, 0, 0.5),\n",
    "    (0.33, 0.33, 0.33),\n",
    "    (0, 0, 0)\n",
    "]\n",
    "\n",
    "_model_type = {\n",
    "    (1, 0, 0): 'Delay priority',\n",
    "    (0, 1, 0): 'Throughput priority',\n",
    "    (0, 0, 1): 'Flow priority',\n",
    "    (0.5, 0.5, 0): 'Delay-Throughput priority',\n",
    "    (0, 0.5, 0.5): 'Throughput-Flow priority',\n",
    "    (0.5, 0, 0.5): 'Delay-Flow priority',\n",
    "    (0.33, 0.33, 0.33): 'Equal priority',\n",
    "    (0, 0, 0): 'Parent model',\n",
    "}\n",
    "\n",
    "cols = [\n",
    "    'Delay priority',\n",
    "    'Throughput priority',\n",
    "    'Flow priority',\n",
    "    'Delay-Throughput priority',\n",
    "    'Throughput-Flow priority',\n",
    "    'Delay-Flow priority',\n",
    "    'Equal priority',\n",
    "    'Parent model'\n",
    "]"
   ]
  },
  {
   "cell_type": "markdown",
   "metadata": {},
   "source": [
    "## Loading the entrance and exit columns"
   ]
  },
  {
   "cell_type": "code",
   "execution_count": 125,
   "metadata": {
    "scrolled": true
   },
   "outputs": [
    {
     "data": {
      "text/html": [
       "<div>\n",
       "<style scoped>\n",
       "    .dataframe tbody tr th:only-of-type {\n",
       "        vertical-align: middle;\n",
       "    }\n",
       "\n",
       "    .dataframe tbody tr th {\n",
       "        vertical-align: top;\n",
       "    }\n",
       "\n",
       "    .dataframe thead th {\n",
       "        text-align: right;\n",
       "    }\n",
       "</style>\n",
       "<table border=\"1\" class=\"dataframe\">\n",
       "  <thead>\n",
       "    <tr style=\"text-align: right;\">\n",
       "      <th></th>\n",
       "      <th>0x16 - exit0_lane3</th>\n",
       "      <th>0x10 - exit3_lane3</th>\n",
       "      <th>0x1 - approach0_lane2</th>\n",
       "      <th>0x2 - approach0_lane2</th>\n",
       "      <th>0x3 - approach0_lane2</th>\n",
       "      <th>0x4 - approach0_lane2</th>\n",
       "      <th>0x28 - approach1_lane3</th>\n",
       "      <th>0x29 - approach1_lane3</th>\n",
       "      <th>0x2a - approach1_lane3</th>\n",
       "      <th>0x2b - approach1_lane3</th>\n",
       "      <th>...</th>\n",
       "      <th>0x37 - approach3_lane2</th>\n",
       "      <th>0x15 - exit1_lane1</th>\n",
       "      <th>0xc - approach2_lane2</th>\n",
       "      <th>0xd - approach2_lane2</th>\n",
       "      <th>0xe - approach2_lane2</th>\n",
       "      <th>0xf - approach2_lane2</th>\n",
       "      <th>0x24 - approach1_lane1</th>\n",
       "      <th>0x25 - approach1_lane1</th>\n",
       "      <th>0x26 - approach1_lane1</th>\n",
       "      <th>0x27 - approach1_lane1</th>\n",
       "    </tr>\n",
       "    <tr>\n",
       "      <th>t</th>\n",
       "      <th></th>\n",
       "      <th></th>\n",
       "      <th></th>\n",
       "      <th></th>\n",
       "      <th></th>\n",
       "      <th></th>\n",
       "      <th></th>\n",
       "      <th></th>\n",
       "      <th></th>\n",
       "      <th></th>\n",
       "      <th></th>\n",
       "      <th></th>\n",
       "      <th></th>\n",
       "      <th></th>\n",
       "      <th></th>\n",
       "      <th></th>\n",
       "      <th></th>\n",
       "      <th></th>\n",
       "      <th></th>\n",
       "      <th></th>\n",
       "      <th></th>\n",
       "    </tr>\n",
       "  </thead>\n",
       "  <tbody>\n",
       "    <tr>\n",
       "      <th>1</th>\n",
       "      <td>0</td>\n",
       "      <td>0</td>\n",
       "      <td>0</td>\n",
       "      <td>0</td>\n",
       "      <td>0</td>\n",
       "      <td>0</td>\n",
       "      <td>0</td>\n",
       "      <td>0</td>\n",
       "      <td>0</td>\n",
       "      <td>0</td>\n",
       "      <td>...</td>\n",
       "      <td>0</td>\n",
       "      <td>0</td>\n",
       "      <td>0</td>\n",
       "      <td>0</td>\n",
       "      <td>0</td>\n",
       "      <td>0</td>\n",
       "      <td>0</td>\n",
       "      <td>0</td>\n",
       "      <td>0</td>\n",
       "      <td>0</td>\n",
       "    </tr>\n",
       "    <tr>\n",
       "      <th>2</th>\n",
       "      <td>0</td>\n",
       "      <td>0</td>\n",
       "      <td>0</td>\n",
       "      <td>0</td>\n",
       "      <td>0</td>\n",
       "      <td>0</td>\n",
       "      <td>0</td>\n",
       "      <td>0</td>\n",
       "      <td>0</td>\n",
       "      <td>0</td>\n",
       "      <td>...</td>\n",
       "      <td>0</td>\n",
       "      <td>0</td>\n",
       "      <td>0</td>\n",
       "      <td>0</td>\n",
       "      <td>0</td>\n",
       "      <td>1</td>\n",
       "      <td>0</td>\n",
       "      <td>0</td>\n",
       "      <td>0</td>\n",
       "      <td>0</td>\n",
       "    </tr>\n",
       "    <tr>\n",
       "      <th>3</th>\n",
       "      <td>0</td>\n",
       "      <td>0</td>\n",
       "      <td>0</td>\n",
       "      <td>0</td>\n",
       "      <td>0</td>\n",
       "      <td>1</td>\n",
       "      <td>0</td>\n",
       "      <td>0</td>\n",
       "      <td>0</td>\n",
       "      <td>0</td>\n",
       "      <td>...</td>\n",
       "      <td>0</td>\n",
       "      <td>0</td>\n",
       "      <td>0</td>\n",
       "      <td>0</td>\n",
       "      <td>1</td>\n",
       "      <td>1</td>\n",
       "      <td>0</td>\n",
       "      <td>0</td>\n",
       "      <td>0</td>\n",
       "      <td>0</td>\n",
       "    </tr>\n",
       "    <tr>\n",
       "      <th>4</th>\n",
       "      <td>0</td>\n",
       "      <td>0</td>\n",
       "      <td>0</td>\n",
       "      <td>0</td>\n",
       "      <td>1</td>\n",
       "      <td>1</td>\n",
       "      <td>0</td>\n",
       "      <td>0</td>\n",
       "      <td>0</td>\n",
       "      <td>0</td>\n",
       "      <td>...</td>\n",
       "      <td>0</td>\n",
       "      <td>0</td>\n",
       "      <td>0</td>\n",
       "      <td>0</td>\n",
       "      <td>1</td>\n",
       "      <td>1</td>\n",
       "      <td>0</td>\n",
       "      <td>0</td>\n",
       "      <td>0</td>\n",
       "      <td>0</td>\n",
       "    </tr>\n",
       "    <tr>\n",
       "      <th>5</th>\n",
       "      <td>0</td>\n",
       "      <td>0</td>\n",
       "      <td>0</td>\n",
       "      <td>0</td>\n",
       "      <td>1</td>\n",
       "      <td>1</td>\n",
       "      <td>0</td>\n",
       "      <td>0</td>\n",
       "      <td>0</td>\n",
       "      <td>1</td>\n",
       "      <td>...</td>\n",
       "      <td>1</td>\n",
       "      <td>0</td>\n",
       "      <td>0</td>\n",
       "      <td>1</td>\n",
       "      <td>1</td>\n",
       "      <td>2</td>\n",
       "      <td>0</td>\n",
       "      <td>0</td>\n",
       "      <td>0</td>\n",
       "      <td>0</td>\n",
       "    </tr>\n",
       "  </tbody>\n",
       "</table>\n",
       "<p>5 rows × 60 columns</p>\n",
       "</div>"
      ],
      "text/plain": [
       "   0x16 - exit0_lane3  0x10 - exit3_lane3  0x1 - approach0_lane2  \\\n",
       "t                                                                  \n",
       "1                   0                   0                      0   \n",
       "2                   0                   0                      0   \n",
       "3                   0                   0                      0   \n",
       "4                   0                   0                      0   \n",
       "5                   0                   0                      0   \n",
       "\n",
       "   0x2 - approach0_lane2  0x3 - approach0_lane2  0x4 - approach0_lane2  \\\n",
       "t                                                                        \n",
       "1                      0                      0                      0   \n",
       "2                      0                      0                      0   \n",
       "3                      0                      0                      1   \n",
       "4                      0                      1                      1   \n",
       "5                      0                      1                      1   \n",
       "\n",
       "   0x28 - approach1_lane3  0x29 - approach1_lane3  0x2a - approach1_lane3  \\\n",
       "t                                                                           \n",
       "1                       0                       0                       0   \n",
       "2                       0                       0                       0   \n",
       "3                       0                       0                       0   \n",
       "4                       0                       0                       0   \n",
       "5                       0                       0                       0   \n",
       "\n",
       "   0x2b - approach1_lane3  ...  0x37 - approach3_lane2  0x15 - exit1_lane1  \\\n",
       "t                          ...                                               \n",
       "1                       0  ...                       0                   0   \n",
       "2                       0  ...                       0                   0   \n",
       "3                       0  ...                       0                   0   \n",
       "4                       0  ...                       0                   0   \n",
       "5                       1  ...                       1                   0   \n",
       "\n",
       "   0xc - approach2_lane2  0xd - approach2_lane2  0xe - approach2_lane2  \\\n",
       "t                                                                        \n",
       "1                      0                      0                      0   \n",
       "2                      0                      0                      0   \n",
       "3                      0                      0                      1   \n",
       "4                      0                      0                      1   \n",
       "5                      0                      1                      1   \n",
       "\n",
       "   0xf - approach2_lane2  0x24 - approach1_lane1  0x25 - approach1_lane1  \\\n",
       "t                                                                          \n",
       "1                      0                       0                       0   \n",
       "2                      1                       0                       0   \n",
       "3                      1                       0                       0   \n",
       "4                      1                       0                       0   \n",
       "5                      2                       0                       0   \n",
       "\n",
       "   0x26 - approach1_lane1  0x27 - approach1_lane1  \n",
       "t                                                  \n",
       "1                       0                       0  \n",
       "2                       0                       0  \n",
       "3                       0                       0  \n",
       "4                       0                       0  \n",
       "5                       0                       0  \n",
       "\n",
       "[5 rows x 60 columns]"
      ]
     },
     "execution_count": 125,
     "metadata": {},
     "output_type": "execute_result"
    }
   ],
   "source": [
    "filename = DF_PATH + 'sim-results/result_d900_old.xls'\n",
    "df_tmp = pd.read_excel(filename, sheet_name='CVCC').fillna(0).set_index('t')\n",
    "df_tmp.head()"
   ]
  },
  {
   "cell_type": "code",
   "execution_count": 126,
   "metadata": {},
   "outputs": [
    {
     "name": "stdout",
     "output_type": "stream",
     "text": [
      "48 approach zones, 12 exit zones\n"
     ]
    }
   ],
   "source": [
    "# Filter out some of the columns\n",
    "\n",
    "survey_zones = df_tmp.columns.values[:]\n",
    "\n",
    "entrances = [x for x in survey_zones if 'approach' in x]\n",
    "exits = [y for y in survey_zones if 'exit' in y]\n",
    "\n",
    "print(\"{} approach zones, {} exit zones\".format(len(entrances), len(exits)))"
   ]
  },
  {
   "cell_type": "code",
   "execution_count": 127,
   "metadata": {},
   "outputs": [],
   "source": [
    "reg_approach = re.compile('0x(\\w+) - approach.*')\n",
    "reg_exit = re.compile('0x(\\w+) - exit.*')\n",
    "\n",
    "entrances_rename = dict([\n",
    "    (k, SURVEY_ZONE_MAPPING[reg_approach.match(k).group(1)])\n",
    "    for k in entrances\n",
    "])\n",
    "\n",
    "exits_rename = dict([\n",
    "    (k, SURVEY_ZONE_MAPPING[reg_exit.match(k).group(1)])\n",
    "    for k in exits\n",
    "])"
   ]
  },
  {
   "cell_type": "markdown",
   "metadata": {},
   "source": [
    "## (TEST) Exploration of the CVCC sheet"
   ]
  },
  {
   "cell_type": "code",
   "execution_count": 128,
   "metadata": {},
   "outputs": [],
   "source": [
    "df_cvcc = df_tmp.rename(columns=entrances_rename).rename(columns=exits_rename)"
   ]
  },
  {
   "cell_type": "code",
   "execution_count": 129,
   "metadata": {},
   "outputs": [],
   "source": [
    "df_cvcc = df_cvcc.stack().reset_index().pivot_table(index='t', columns='level_1', values=0, aggfunc='sum')"
   ]
  },
  {
   "cell_type": "code",
   "execution_count": 130,
   "metadata": {},
   "outputs": [],
   "source": [
    "cvcc_entrance = df_cvcc[[(3,0,0), (3,0,1), (3,0,2), (3,0,3)]].sum(axis=1)\n",
    "cvcc_exit = df_cvcc[[(1,0,0), (1,0,1), (1,0,2), (1,0,3)]].sum(axis=1)\n",
    "\n",
    "cvcc_tmp = pd.concat([cvcc_entrance, cvcc_exit], axis=1)\n",
    "cvcc_tmp.columns = ['Entrance', 'Exit']"
   ]
  },
  {
   "cell_type": "code",
   "execution_count": 131,
   "metadata": {},
   "outputs": [
    {
     "data": {
      "text/plain": [
       "<matplotlib.axes._subplots.AxesSubplot at 0x7ff307ea4050>"
      ]
     },
     "execution_count": 131,
     "metadata": {},
     "output_type": "execute_result"
    },
    {
     "data": {
      "image/png": "[encoded data removed]",
      "text/plain": [
       "<Figure size 864x864 with 1 Axes>"
      ]
     },
     "metadata": {
      "needs_background": "light"
     },
     "output_type": "display_data"
    }
   ],
   "source": [
    "fig, ax = plt.subplots(figsize=(12,12))\n",
    "\n",
    "cvcc_tmp.plot(ax=ax)"
   ]
  },
  {
   "cell_type": "code",
   "execution_count": null,
   "metadata": {},
   "outputs": [],
   "source": []
  }
 ],
 "metadata": {
  "kernelspec": {
   "display_name": "Python 2",
   "language": "python",
   "name": "python2"
  },
  "language_info": {
   "codemirror_mode": {
    "name": "ipython",
    "version": 2
   },
   "file_extension": ".py",
   "mimetype": "text/x-python",
   "name": "python",
   "nbconvert_exporter": "python",
   "pygments_lexer": "ipython2",
   "version": "2.7.12"
  }
 },
 "nbformat": 4,
 "nbformat_minor": 2
}
