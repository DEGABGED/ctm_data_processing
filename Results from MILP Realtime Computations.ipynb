{
 "cells": [
  {
   "cell_type": "markdown",
   "metadata": {},
   "source": [
    "# Results from MILP Realtime Computations"
   ]
  },
  {
   "cell_type": "code",
   "execution_count": 25,
   "metadata": {},
   "outputs": [],
   "source": [
    "import numpy as np\n",
    "import pandas as pd\n",
    "\n",
    "from ctmmodels.const import *"
   ]
  },
  {
   "cell_type": "code",
   "execution_count": 2,
   "metadata": {},
   "outputs": [],
   "source": [
    "IMAGE_PATH = 'graphs/'\n",
    "DF_PATH = 'experiments/'"
   ]
  },
  {
   "cell_type": "code",
   "execution_count": 3,
   "metadata": {},
   "outputs": [],
   "source": [
    "time_range = 30\n",
    "time_ticks = np.arange(0, time_range+1, 1)\n",
    "\n",
    "parameters = {\n",
    "    'r_left': 0.25,\n",
    "    'r_through': 0.5,\n",
    "    'r_right': 0.25,\n",
    "    'sat_flow_rate': 1800,\n",
    "    'time_range': time_range,\n",
    "    'time_step': 2,\n",
    "    'g_min': 6,\n",
    "    'g_max': 20,\n",
    "    'flow_rate_reduction': 1\n",
    "}\n",
    "\n",
    "# Varying parameters: demand, alpha, beta, gamma"
   ]
  },
  {
   "cell_type": "markdown",
   "metadata": {},
   "source": [
    "## Saving dataframes"
   ]
  },
  {
   "cell_type": "code",
   "execution_count": 4,
   "metadata": {},
   "outputs": [],
   "source": [
    "def save_df(df, filename):\n",
    "    df.to_pickle(DF_PATH + filename + \".pkl\")"
   ]
  },
  {
   "cell_type": "markdown",
   "metadata": {},
   "source": [
    "## Loading CSV files"
   ]
  },
  {
   "cell_type": "code",
   "execution_count": 5,
   "metadata": {},
   "outputs": [],
   "source": [
    "_demands = [\n",
    "    450,\n",
    "    900,\n",
    "    (450, 900),\n",
    "    (900, 1800)\n",
    "]\n",
    "\n",
    "_weights = [\n",
    "    (0.8, 0.1, 0.1),\n",
    "    (0.1, 0.8, 0.1),\n",
    "    (0.1, 0.1, 0.8),\n",
    "    (0.45, 0.45, 0.1),\n",
    "    (0.1, 0.45, 0.45),\n",
    "    (0.45, 0.1, 0.45),\n",
    "    (0.33, 0.33, 0.33),\n",
    "    (0, 0, 0),\n",
    "]\n",
    "\n",
    "_col_rename = {\n",
    "    'Runtime': 'runtime',\n",
    "    'Delay': 'delay',\n",
    "    'Throughput': 'throughput',\n",
    "    'ObjValue': 'objective_value'\n",
    "}\n",
    "\n",
    "_model_type = {\n",
    "    (0.8, 0.1, 0.1): 'Delay priority',\n",
    "    (0.1, 0.8, 0.1): 'Throughput priority',\n",
    "    (0.1, 0.1, 0.8): 'Flow priority',\n",
    "    (0.45, 0.45, 0.1): 'Delay-Throughput priority',\n",
    "    (0.1, 0.45, 0.45): 'Throughput-Flow priority',\n",
    "    (0.45, 0.1, 0.45): 'Delay-Flow priority',\n",
    "    (0.33, 0.33, 0.33): 'Equal priority',\n",
    "    (0, 0, 0): 'Parent model',\n",
    "}"
   ]
  },
  {
   "cell_type": "code",
   "execution_count": 12,
   "metadata": {
    "scrolled": true
   },
   "outputs": [],
   "source": [
    "_results_dflist = []\n",
    "\n",
    "for demand in _demands:\n",
    "    for weights in _weights:\n",
    "        if weights == (0,0,0):\n",
    "            df_e1 = pd.read_csv(DF_PATH + 'milp-results/results_d{}_epoch1_old.csv'.format(demand))\n",
    "            df_e2 = pd.read_csv(DF_PATH + 'milp-results/results_d{}_epoch2_old.csv'.format(demand))\n",
    "        else:\n",
    "            df_e1 = pd.read_csv(DF_PATH + 'milp-results/results_d{}_epoch1_a{}_b{}_c{}.csv'.format(demand, *weights))\n",
    "            df_e2 = pd.read_csv(DF_PATH + 'milp-results/results_d{}_epoch2_a{}_b{}_c{}.csv'.format(demand, *weights))\n",
    "\n",
    "        df_e1 = df_e1.rename(columns=_col_rename)\n",
    "        df_e1['delay'] = df_e1['delay'].apply(lambda x: 2*x) # IMPORTANT; forgot to add this in the CTM\n",
    "        df_e1['demand'] = [demand]\n",
    "        df_e1['new_model'] = weights != (0,0,0)\n",
    "        df_e1['alpha'] = weights[0]\n",
    "        df_e1['beta'] = weights[1]\n",
    "        df_e1['gamma'] = weights[2]\n",
    "        df_e1['model_type'] = _model_type[weights]\n",
    "        df_e1['epoch'] = 1\n",
    "        \n",
    "        df_e2 = df_e2.rename(columns=_col_rename)\n",
    "        df_e2['delay'] = df_e2['delay'].apply(lambda x: 2*x)\n",
    "        df_e2['demand'] = [demand]\n",
    "        df_e2['new_model'] = weights != (0,0,0)\n",
    "        df_e2['alpha'] = weights[0]\n",
    "        df_e2['beta'] = weights[1]\n",
    "        df_e2['gamma'] = weights[2]\n",
    "        df_e2['model_type'] = _model_type[weights]\n",
    "        df_e2['epoch'] = 2\n",
    "        \n",
    "        _results_dflist.append(pd.concat([df_e1, df_e2]))"
   ]
  },
  {
   "cell_type": "code",
   "execution_count": 13,
   "metadata": {},
   "outputs": [],
   "source": [
    "df = pd.concat(_results_dflist)"
   ]
  },
  {
   "cell_type": "markdown",
   "metadata": {},
   "source": [
    "## Adding initial MILP results"
   ]
  },
  {
   "cell_type": "code",
   "execution_count": 15,
   "metadata": {},
   "outputs": [],
   "source": [
    "df_initial_results = pd.concat([\n",
    "    pd.read_pickle(DF_PATH + 'results1.pkl'),\n",
    "    pd.read_pickle(DF_PATH + 'results2.pkl')\n",
    "])"
   ]
  },
  {
   "cell_type": "code",
   "execution_count": 16,
   "metadata": {},
   "outputs": [
    {
     "data": {
      "text/html": [
       "<div>\n",
       "<style scoped>\n",
       "    .dataframe tbody tr th:only-of-type {\n",
       "        vertical-align: middle;\n",
       "    }\n",
       "\n",
       "    .dataframe tbody tr th {\n",
       "        vertical-align: top;\n",
       "    }\n",
       "\n",
       "    .dataframe thead th {\n",
       "        text-align: right;\n",
       "    }\n",
       "</style>\n",
       "<table border=\"1\" class=\"dataframe\">\n",
       "  <thead>\n",
       "    <tr style=\"text-align: right;\">\n",
       "      <th></th>\n",
       "      <th>demand_ns</th>\n",
       "      <th>demand_ew</th>\n",
       "      <th>runtime</th>\n",
       "      <th>delay</th>\n",
       "      <th>throughput</th>\n",
       "      <th>objective_value</th>\n",
       "      <th>alpha</th>\n",
       "      <th>beta</th>\n",
       "      <th>gamma</th>\n",
       "    </tr>\n",
       "  </thead>\n",
       "  <tbody>\n",
       "    <tr>\n",
       "      <th>0</th>\n",
       "      <td>450</td>\n",
       "      <td>450</td>\n",
       "      <td>174.118326</td>\n",
       "      <td>767.272152</td>\n",
       "      <td>51.278481</td>\n",
       "      <td>382.056221</td>\n",
       "      <td>0.80</td>\n",
       "      <td>0.10</td>\n",
       "      <td>0.10</td>\n",
       "    </tr>\n",
       "    <tr>\n",
       "      <th>1</th>\n",
       "      <td>450</td>\n",
       "      <td>450</td>\n",
       "      <td>415.136684</td>\n",
       "      <td>791.607595</td>\n",
       "      <td>55.000000</td>\n",
       "      <td>-291.456345</td>\n",
       "      <td>0.10</td>\n",
       "      <td>0.80</td>\n",
       "      <td>0.10</td>\n",
       "    </tr>\n",
       "    <tr>\n",
       "      <th>2</th>\n",
       "      <td>450</td>\n",
       "      <td>450</td>\n",
       "      <td>891.892373</td>\n",
       "      <td>801.107595</td>\n",
       "      <td>54.000000</td>\n",
       "      <td>-1585.763682</td>\n",
       "      <td>0.10</td>\n",
       "      <td>0.10</td>\n",
       "      <td>0.80</td>\n",
       "    </tr>\n",
       "    <tr>\n",
       "      <th>3</th>\n",
       "      <td>450</td>\n",
       "      <td>450</td>\n",
       "      <td>343.920306</td>\n",
       "      <td>767.272152</td>\n",
       "      <td>51.278481</td>\n",
       "      <td>49.987495</td>\n",
       "      <td>0.45</td>\n",
       "      <td>0.45</td>\n",
       "      <td>0.10</td>\n",
       "    </tr>\n",
       "    <tr>\n",
       "      <th>4</th>\n",
       "      <td>450</td>\n",
       "      <td>450</td>\n",
       "      <td>596.610098</td>\n",
       "      <td>791.607595</td>\n",
       "      <td>55.000000</td>\n",
       "      <td>-937.523394</td>\n",
       "      <td>0.10</td>\n",
       "      <td>0.45</td>\n",
       "      <td>0.45</td>\n",
       "    </tr>\n",
       "  </tbody>\n",
       "</table>\n",
       "</div>"
      ],
      "text/plain": [
       "   demand_ns  demand_ew     runtime       delay  throughput  objective_value  \\\n",
       "0        450        450  174.118326  767.272152   51.278481       382.056221   \n",
       "1        450        450  415.136684  791.607595   55.000000      -291.456345   \n",
       "2        450        450  891.892373  801.107595   54.000000     -1585.763682   \n",
       "3        450        450  343.920306  767.272152   51.278481        49.987495   \n",
       "4        450        450  596.610098  791.607595   55.000000      -937.523394   \n",
       "\n",
       "   alpha  beta  gamma  \n",
       "0   0.80  0.10   0.10  \n",
       "1   0.10  0.80   0.10  \n",
       "2   0.10  0.10   0.80  \n",
       "3   0.45  0.45   0.10  \n",
       "4   0.10  0.45   0.45  "
      ]
     },
     "execution_count": 16,
     "metadata": {},
     "output_type": "execute_result"
    }
   ],
   "source": [
    "df_initial_results.head()"
   ]
  },
  {
   "cell_type": "code",
   "execution_count": 17,
   "metadata": {},
   "outputs": [
    {
     "data": {
      "text/html": [
       "<div>\n",
       "<style scoped>\n",
       "    .dataframe tbody tr th:only-of-type {\n",
       "        vertical-align: middle;\n",
       "    }\n",
       "\n",
       "    .dataframe tbody tr th {\n",
       "        vertical-align: top;\n",
       "    }\n",
       "\n",
       "    .dataframe thead th {\n",
       "        text-align: right;\n",
       "    }\n",
       "</style>\n",
       "<table border=\"1\" class=\"dataframe\">\n",
       "  <thead>\n",
       "    <tr style=\"text-align: right;\">\n",
       "      <th></th>\n",
       "      <th>runtime</th>\n",
       "      <th>delay</th>\n",
       "      <th>throughput</th>\n",
       "      <th>objective_value</th>\n",
       "      <th>demand</th>\n",
       "      <th>new_model</th>\n",
       "      <th>alpha</th>\n",
       "      <th>beta</th>\n",
       "      <th>gamma</th>\n",
       "      <th>model_type</th>\n",
       "      <th>epoch</th>\n",
       "    </tr>\n",
       "  </thead>\n",
       "  <tbody>\n",
       "    <tr>\n",
       "      <th>0</th>\n",
       "      <td>3.216363</td>\n",
       "      <td>8911.316456</td>\n",
       "      <td>66.835443</td>\n",
       "      <td>3167.632535</td>\n",
       "      <td>450</td>\n",
       "      <td>True</td>\n",
       "      <td>0.8</td>\n",
       "      <td>0.1</td>\n",
       "      <td>0.1</td>\n",
       "      <td>Delay priority</td>\n",
       "      <td>1</td>\n",
       "    </tr>\n",
       "    <tr>\n",
       "      <th>0</th>\n",
       "      <td>2.705916</td>\n",
       "      <td>14393.012658</td>\n",
       "      <td>66.835443</td>\n",
       "      <td>5233.862720</td>\n",
       "      <td>450</td>\n",
       "      <td>True</td>\n",
       "      <td>0.8</td>\n",
       "      <td>0.1</td>\n",
       "      <td>0.1</td>\n",
       "      <td>Delay priority</td>\n",
       "      <td>2</td>\n",
       "    </tr>\n",
       "    <tr>\n",
       "      <th>0</th>\n",
       "      <td>2.739941</td>\n",
       "      <td>8653.316456</td>\n",
       "      <td>67.835443</td>\n",
       "      <td>46.513092</td>\n",
       "      <td>450</td>\n",
       "      <td>True</td>\n",
       "      <td>0.1</td>\n",
       "      <td>0.8</td>\n",
       "      <td>0.1</td>\n",
       "      <td>Throughput priority</td>\n",
       "      <td>1</td>\n",
       "    </tr>\n",
       "    <tr>\n",
       "      <th>0</th>\n",
       "      <td>3.006180</td>\n",
       "      <td>13110.303797</td>\n",
       "      <td>68.835443</td>\n",
       "      <td>278.233317</td>\n",
       "      <td>450</td>\n",
       "      <td>True</td>\n",
       "      <td>0.1</td>\n",
       "      <td>0.8</td>\n",
       "      <td>0.1</td>\n",
       "      <td>Throughput priority</td>\n",
       "      <td>2</td>\n",
       "    </tr>\n",
       "    <tr>\n",
       "      <th>0</th>\n",
       "      <td>3.362435</td>\n",
       "      <td>9995.316456</td>\n",
       "      <td>67.835443</td>\n",
       "      <td>-775.294246</td>\n",
       "      <td>450</td>\n",
       "      <td>True</td>\n",
       "      <td>0.1</td>\n",
       "      <td>0.1</td>\n",
       "      <td>0.8</td>\n",
       "      <td>Flow priority</td>\n",
       "      <td>1</td>\n",
       "    </tr>\n",
       "  </tbody>\n",
       "</table>\n",
       "</div>"
      ],
      "text/plain": [
       "    runtime         delay  throughput  objective_value demand  new_model  \\\n",
       "0  3.216363   8911.316456   66.835443      3167.632535    450       True   \n",
       "0  2.705916  14393.012658   66.835443      5233.862720    450       True   \n",
       "0  2.739941   8653.316456   67.835443        46.513092    450       True   \n",
       "0  3.006180  13110.303797   68.835443       278.233317    450       True   \n",
       "0  3.362435   9995.316456   67.835443      -775.294246    450       True   \n",
       "\n",
       "   alpha  beta  gamma           model_type  epoch  \n",
       "0    0.8   0.1    0.1       Delay priority      1  \n",
       "0    0.8   0.1    0.1       Delay priority      2  \n",
       "0    0.1   0.8    0.1  Throughput priority      1  \n",
       "0    0.1   0.8    0.1  Throughput priority      2  \n",
       "0    0.1   0.1    0.8        Flow priority      1  "
      ]
     },
     "execution_count": 17,
     "metadata": {},
     "output_type": "execute_result"
    }
   ],
   "source": [
    "df.head()"
   ]
  },
  {
   "cell_type": "code",
   "execution_count": 19,
   "metadata": {},
   "outputs": [],
   "source": [
    "df_initial_results['demand'] = df_initial_results.apply(lambda row: \n",
    "                                                        row['demand_ns'] if row['demand_ns'] == row['demand_ew']\n",
    "                                                        else (int(row['demand_ns']), int(row['demand_ew']))\n",
    "                                                        , axis=1)\n",
    "\n",
    "df_initial_results['new_model'] = df_initial_results.apply(lambda row: row['alpha'] != 0, axis=1)\n",
    "\n",
    "df_initial_results['model_type'] = df_initial_results.apply(lambda row: _model_type[\n",
    "    (row['alpha'], row['beta'], row['gamma'])\n",
    "], axis=1)\n",
    "\n",
    "df_initial_results['epoch'] = 0\n",
    "\n",
    "df_initial_results['delay'] = df_initial_results['delay'].apply(lambda x: 2*x)"
   ]
  },
  {
   "cell_type": "code",
   "execution_count": 20,
   "metadata": {},
   "outputs": [],
   "source": [
    "df_initial_results = df_initial_results[[\n",
    "    'runtime',\n",
    "    'delay',\n",
    "    'throughput',\n",
    "    'objective_value',\n",
    "    'demand',\n",
    "    'new_model',\n",
    "    'alpha',\n",
    "    'beta',\n",
    "    'gamma',\n",
    "    'model_type',\n",
    "    'epoch'\n",
    "]]"
   ]
  },
  {
   "cell_type": "code",
   "execution_count": 21,
   "metadata": {
    "scrolled": true
   },
   "outputs": [],
   "source": [
    "df = df.rename(columns={'obj-value': 'objective_value'})"
   ]
  },
  {
   "cell_type": "code",
   "execution_count": 22,
   "metadata": {},
   "outputs": [],
   "source": [
    "df_final = pd.concat([df_initial_results, df]).sort_values(by=['epoch', 'demand', 'model_type'])"
   ]
  },
  {
   "cell_type": "code",
   "execution_count": 24,
   "metadata": {
    "scrolled": true
   },
   "outputs": [],
   "source": [
    "save_df(df_final, 'milp-realtime-results')"
   ]
  },
  {
   "cell_type": "code",
   "execution_count": null,
   "metadata": {},
   "outputs": [],
   "source": []
  }
 ],
 "metadata": {
  "kernelspec": {
   "display_name": "Python 2",
   "language": "python",
   "name": "python2"
  },
  "language_info": {
   "codemirror_mode": {
    "name": "ipython",
    "version": 2
   },
   "file_extension": ".py",
   "mimetype": "text/x-python",
   "name": "python",
   "nbconvert_exporter": "python",
   "pygments_lexer": "ipython2",
   "version": "2.7.12"
  }
 },
 "nbformat": 4,
 "nbformat_minor": 2
}
